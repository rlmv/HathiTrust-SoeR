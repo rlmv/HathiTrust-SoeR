{
 "metadata": {
  "name": "plot_years"
 },
 "nbformat": 3,
 "nbformat_minor": 0,
 "worksheets": [
  {
   "cells": [
    {
     "cell_type": "code",
     "collapsed": false,
     "input": [
      "%pylab inline"
     ],
     "language": "python",
     "metadata": {},
     "outputs": [
      {
       "output_type": "stream",
       "stream": "stdout",
       "text": [
        "\n",
        "Welcome to pylab, a matplotlib-based Python environment [backend: module://IPython.kernel.zmq.pylab.backend_inline].\n",
        "For more information, type 'help(pylab)'.\n"
       ]
      }
     ],
     "prompt_number": 2
    },
    {
     "cell_type": "code",
     "collapsed": false,
     "input": [
      "import csv\n",
      "\n",
      "s = '/Users/robertmarchman/Documents/CS/HT-SoeR/results/non_google.20111101_01_years.csv'\n",
      "snz = '/Users/robertmarchman/Documents/CS/HT-SoeR/results/non_google.20111101_01_nz_years.csv'\n",
      "\n",
      "oct = '/Users/robertmarchman/Documents/CS/HT-SoeR/results/non_google.20111101_01_nz_ocr_acc.hist'\n",
      "\n",
      "\n",
      "figure(figsize=(10, 4), dpi=100)\n",
      "for i in [oct]:\n",
      "    with open(i) as f:\n",
      "        \n",
      "        csvreader = csv.reader(f)\n",
      "        \n",
      "        X = []\n",
      "        Y = []\n",
      "        for line in csvreader:\n",
      "            year = line[0]\n",
      "            num = line[1]\n",
      "            #if year != \"None\" and year < \"2013\":\n",
      "#               X.append(year)\n",
      "#                Y.append(num)\n",
      "            X.append(year)\n",
      "            Y.append(float(num))\n",
      "            \n",
      "\n",
      "        # formatting\n",
      "        #plot(X, Y, linewidth=2)\n",
      "        n, bins, patches = hist(Y, bins=700, color='red', alpha=0.75)\n",
      "\n",
      "\n",
      "#title(\"Public domain documents by year\", size='xx-large')\n",
      "#xlim(1600, 2000)\n",
      "ylim(0, 25)\n",
      "xlim(70, 100)\n",
      "xticks(size='x-large')\n",
      "\n",
      "#ylabel(\"Number of documents\", size='xx-large')\n",
      "yticks(size='x-large')\n",
      "yticks()[1][0].set_visible(False)"
     ],
     "language": "python",
     "metadata": {},
     "outputs": [
      {
       "output_type": "display_data",
       "png": "[encoded data removed]",
       "text": [
        "<matplotlib.figure.Figure at 0x10596dcd0>"
       ]
      }
     ],
     "prompt_number": 53
    },
    {
     "cell_type": "code",
     "collapsed": false,
     "input": [],
     "language": "python",
     "metadata": {},
     "outputs": []
    }
   ],
   "metadata": {}
  }
 ]
}